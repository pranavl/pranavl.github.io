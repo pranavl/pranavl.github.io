{
 "cells": [
  {
   "cell_type": "markdown",
   "metadata": {},
   "source": [
    "## Load Marvel CDB data\n",
    "\n",
    "This script loads Marvel CDB data into a format that is optimized for the `marvel-champions-tracker` app.\n",
    "\n",
    "Run this script in a Python environment with the following packages installed:\n",
    "- `requests`"
   ]
  },
  {
   "cell_type": "markdown",
   "metadata": {},
   "source": [
    "### Imports"
   ]
  },
  {
   "cell_type": "code",
   "execution_count": 8,
   "metadata": {},
   "outputs": [],
   "source": [
    "import requests\n",
    "import json"
   ]
  },
  {
   "cell_type": "markdown",
   "metadata": {},
   "source": [
    "### Load cards"
   ]
  },
  {
   "cell_type": "code",
   "execution_count": 9,
   "metadata": {},
   "outputs": [
    {
     "name": "stdout",
     "output_type": "stream",
     "text": [
      "Found data for 43 packs\n"
     ]
    }
   ],
   "source": [
    "# Get a list of all packs\n",
    "get_packs = requests.get('https://marvelcdb.com/api/public/packs')\n",
    "\n",
    "pack_info = get_packs.json()\n",
    "pack_codes = [p['code'] for p in pack_info]\n",
    "\n",
    "print(f'Found data for {len(pack_codes)} packs')"
   ]
  },
  {
   "cell_type": "code",
   "execution_count": 10,
   "metadata": {},
   "outputs": [
    {
     "name": "stdout",
     "output_type": "stream",
     "text": [
      "core\n",
      "gob\n",
      "cap\n",
      "msm\n",
      "twc\n",
      "thor\n",
      "bkw\n",
      "drs\n",
      "ron\n",
      "hlk\n",
      "trors\n",
      "toafk\n",
      "ant\n",
      "wsp\n",
      "qsv\n",
      "scw\n",
      "gmw\n",
      "stld\n",
      "gam\n",
      "drax\n",
      "vnm\n",
      "mts\n",
      "nebu\n",
      "warm\n",
      "hood\n",
      "valk\n",
      "vision\n",
      "sm\n",
      "nova\n",
      "ironheart\n",
      "spiderham\n",
      "spdr\n",
      "mut_gen\n",
      "cyclops\n",
      "phoenix\n",
      "wolv\n",
      "storm\n",
      "mojo\n",
      "gambit\n",
      "rogue\n",
      "next_evol\n",
      "psylocke\n",
      "angel\n"
     ]
    },
    {
     "data": {
      "text/plain": [
       "2742"
      ]
     },
     "execution_count": 10,
     "metadata": {},
     "output_type": "execute_result"
    }
   ],
   "source": [
    "# Get all cards in the database\n",
    "all_cards = []\n",
    "for pc in pack_codes:\n",
    "    print(pc)\n",
    "    cards_in_pack = requests.get(f'https://marvelcdb.com/api/public/cards/{pc}')\n",
    "    all_cards += cards_in_pack.json()\n",
    "\n",
    "len(all_cards)"
   ]
  },
  {
   "cell_type": "markdown",
   "metadata": {},
   "source": [
    "### Group cards by set"
   ]
  },
  {
   "cell_type": "code",
   "execution_count": 11,
   "metadata": {},
   "outputs": [],
   "source": [
    "card_factions_to_keep = [\n",
    "  'encounter',\n",
    "  'campaign',\n",
    "]"
   ]
  },
  {
   "cell_type": "code",
   "execution_count": 5,
   "metadata": {},
   "outputs": [
    {
     "data": {
      "text/plain": [
       "241"
      ]
     },
     "execution_count": 5,
     "metadata": {},
     "output_type": "execute_result"
    }
   ],
   "source": [
    "cards_by_set = {}\n",
    "for card in all_cards:\n",
    "    if card['faction_code'] not in card_factions_to_keep:\n",
    "        continue\n",
    "    try:\n",
    "        if card['card_set_code'] not in cards_by_set:\n",
    "            cards_by_set[card['card_set_code']] = {\n",
    "                'card_set_code': card['card_set_code'],\n",
    "                'card_set_name': card['card_set_name'],\n",
    "                'pack_code': card['pack_code'],\n",
    "                'pack_name': card['pack_name'],\n",
    "                'cards_in_set': []\n",
    "            }\n",
    "        cards_by_set[card['card_set_code']]['cards_in_set'].append(card)\n",
    "    except:\n",
    "        print(card)\n",
    "\n",
    "len(cards_by_set)"
   ]
  },
  {
   "cell_type": "markdown",
   "metadata": {},
   "source": [
    "### Write data to files"
   ]
  },
  {
   "cell_type": "code",
   "execution_count": 6,
   "metadata": {},
   "outputs": [],
   "source": [
    "with open('data/cdb_pack_data.json', 'w') as fhandle:\n",
    "    json.dump(pack_info, fhandle)"
   ]
  },
  {
   "cell_type": "code",
   "execution_count": 7,
   "metadata": {},
   "outputs": [],
   "source": [
    "with open('data/cdb_cards_by_set.json', 'w') as fhandle:\n",
    "    json.dump(list(cards_by_set.values()), fhandle)"
   ]
  },
  {
   "cell_type": "markdown",
   "metadata": {},
   "source": [
    "### Get a list of attributes in the cards"
   ]
  },
  {
   "cell_type": "code",
   "execution_count": 14,
   "metadata": {},
   "outputs": [
    {
     "name": "stdout",
     "output_type": "stream",
     "text": [
      "attack\n",
      "attack_cost\n",
      "attack_text\n",
      "back_flavor\n",
      "back_name\n",
      "back_text\n",
      "backimagesrc\n",
      "base_threat\n",
      "base_threat_fixed\n",
      "boost\n",
      "boost_text\n",
      "card_set_code\n",
      "card_set_name\n",
      "card_set_type_name_code\n",
      "code\n",
      "cost\n",
      "deck_limit\n",
      "double_sided\n",
      "escalation_threat\n",
      "escalation_threat_fixed\n",
      "faction_code\n",
      "faction_name\n",
      "flavor\n",
      "health\n",
      "health_per_hero\n",
      "hidden\n",
      "illustrator\n",
      "imagesrc\n",
      "is_unique\n",
      "linked_card\n",
      "linked_to_code\n",
      "linked_to_name\n",
      "name\n",
      "octgn_id\n",
      "pack_code\n",
      "pack_name\n",
      "permanent\n",
      "position\n",
      "quantity\n",
      "real_name\n",
      "real_text\n",
      "real_traits\n",
      "resource_energy\n",
      "resource_mental\n",
      "resource_physical\n",
      "resource_wild\n",
      "scheme\n",
      "scheme_acceleration\n",
      "scheme_crisis\n",
      "scheme_hazard\n",
      "scheme_text\n",
      "set_position\n",
      "spoiler\n",
      "stage\n",
      "subname\n",
      "text\n",
      "threat\n",
      "threat_fixed\n",
      "thwart\n",
      "thwart_cost\n",
      "traits\n",
      "type_code\n",
      "type_name\n",
      "url\n"
     ]
    }
   ],
   "source": [
    "attributes = set()\n",
    "for card in all_cards:\n",
    "    if card['faction_code'] not in card_factions_to_keep:\n",
    "        continue\n",
    "    for k in card.keys():\n",
    "        attributes.add(k)\n",
    "\n",
    "for k in sorted(attributes):\n",
    "    print(k)"
   ]
  },
  {
   "cell_type": "code",
   "execution_count": null,
   "metadata": {},
   "outputs": [],
   "source": []
  }
 ],
 "metadata": {
  "kernelspec": {
   "display_name": "coatl-eoRUBtcJ-py3.8",
   "language": "python",
   "name": "python3"
  },
  "language_info": {
   "codemirror_mode": {
    "name": "ipython",
    "version": 3
   },
   "file_extension": ".py",
   "mimetype": "text/x-python",
   "name": "python",
   "nbconvert_exporter": "python",
   "pygments_lexer": "ipython3",
   "version": "3.8.3"
  },
  "orig_nbformat": 4
 },
 "nbformat": 4,
 "nbformat_minor": 2
}
